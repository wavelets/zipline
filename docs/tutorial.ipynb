{
 "metadata": {
  "name": "",
  "signature": "sha256:7e5a57d9f79d1d353883739f763fe143cd3ed96ad686b1e480cf3ea044639f62"
 },
 "nbformat": 3,
 "nbformat_minor": 0,
 "worksheets": [
  {
   "cells": [
    {
     "cell_type": "markdown",
     "metadata": {},
     "source": [
      "# Zipline beginner tutorial"
     ]
    },
    {
     "cell_type": "markdown",
     "metadata": {},
     "source": [
      "## Basics"
     ]
    },
    {
     "cell_type": "markdown",
     "metadata": {},
     "source": [
      "Zipline is an open-source algorithmic trading simulator.\n",
      "\n",
      "The source can be found at: https://github.com/quantopian/zipline\n",
      "\n",
      "Some benefits include:\n",
      "\n",
      "* Realistic: slippage, transaction costs, order delays.\n",
      "* Stream-based: Process each event individually, avoids look-ahead bias.\n",
      "* Batteries included: Common transforms (moving average) as well as common risk calculations (Sharpe).\n",
      "* Developed and continuously updated by [Quantopian](https://www.quantopian.com) which provides an easy-to-use web-interface to Zipline, 10 years of minute-resolution historical US stock data, and live-trading capabilities. This tutorial is directed at users wishing to use Zipline without using Quantopian. If you instead want to get started on Quantopian, see [here](https://www.quantopian.com/faq#get-started).\n",
      "\n",
      "Every `zipline` algorithm consists of two functions you have to define:\n",
      "* `initialize(context)`\n",
      "* `handle_data(context, data)`\n",
      "\n",
      "Before the start of the algorithm, `zipline` calls the `initialize` function and passes in a `context` variable. `context` is a persistent namespace for you to store variables you need to access from one algorithm iteration to the next.\n",
      "\n",
      "After the algorithm was initialized, `zipline` calls the `handle_data` function passing in the same `context` variable and an event-frame called `data`. For more information on these functions, see the [relevant part of the Quantopian docs](https://www.quantopian.com/help#api-toplevel)."
     ]
    },
    {
     "cell_type": "markdown",
     "metadata": {},
     "source": [
      "## My first algorithm\n",
      "\n",
      "Lets take a look at a very simple algorith from the `examples` directory, `buyapple.py`:"
     ]
    },
    {
     "cell_type": "code",
     "collapsed": false,
     "input": [
      "!cat ../zipline/examples/buyapple.py"
     ],
     "language": "python",
     "metadata": {},
     "outputs": [
      {
       "output_type": "stream",
       "stream": "stdout",
       "text": [
        "#!/usr/bin/env python\r\n",
        "#\r\n",
        "# Copyright 2012 Quantopian, Inc.\r\n",
        "#\r\n",
        "# Licensed under the Apache License, Version 2.0 (the \"License\");\r\n",
        "# you may not use this file except in compliance with the License.\r\n",
        "# You may obtain a copy of the License at\r\n",
        "#\r\n",
        "#     http://www.apache.org/licenses/LICENSE-2.0\r\n",
        "#\r\n",
        "# Unless required by applicable law or agreed to in writing, software\r\n",
        "# distributed under the License is distributed on an \"AS IS\" BASIS,\r\n",
        "# WITHOUT WARRANTIES OR CONDITIONS OF ANY KIND, either express or implied.\r\n",
        "# See the License for the specific language governing permissions and\r\n",
        "# limitations under the License.\r\n",
        "\r\n",
        "from zipline.api import order, record\r\n",
        "\r\n",
        "\r\n",
        "def initialize(context):\r\n",
        "    pass\r\n",
        "\r\n",
        "\r\n",
        "def handle_data(context, data):\r\n",
        "    order('AAPL', 10)\r\n",
        "    record(AAPL=data['AAPL'].price)\r\n"
       ]
      }
     ],
     "prompt_number": 1
    },
    {
     "cell_type": "markdown",
     "metadata": {},
     "source": [
      "As you can see, we first have to import some functions we would like to use. All functions commonly used in your algorithm can be found in `zipline.api`. Here we are using `order()` which takes two arguments -- a security object, and a number specifying how many stocks you would like to order (if negative, `order()` will sell/short stocks). In this case we want to order 10 shares of Apple at each iteration. For more documentation on `order()`, see the [Quantopian docs](https://www.quantopian.com/help#api-order).\n",
      "\n",
      "You don't have to use the `symbol()` function and could just pass in `AAPL` directly but it is good practice as this way your code will be Quantopian compatible.\n",
      "\n",
      "Finally, the `record()` function allows you save the value of a variable at each iteration. You it a name for the variable together with the variable itself: `varname=var`. After the algorithm finished running you will have access to each variable value you tracked with `record()` under the name you provided (we will see this further below)."
     ]
    },
    {
     "cell_type": "markdown",
     "metadata": {},
     "source": [
      "## Running the algorithm\n",
      "\n",
      "To now test this algorithm on financial data `zipline` provides two interfaces. A command-line interface and an `IPython Notebook` interface.\n",
      "\n",
      "### Command line interface\n",
      "After you installed zipline you should be able to execute the following from your command line (e.g. `cmd.exe` on Windows, or the Terminal app on OSX):"
     ]
    },
    {
     "cell_type": "code",
     "collapsed": false,
     "input": [
      "!run_algo.py --help"
     ],
     "language": "python",
     "metadata": {},
     "outputs": [
      {
       "output_type": "stream",
       "stream": "stdout",
       "text": [
        "usage: run_algo.py [-h] [-c FILE] [--algofile ALGOFILE] [--data-frequency {minute,daily}] [--start START] [--end END]\r\n",
        "                   [--capital_base CAPITAL_BASE] [--source {yahoo}] [--symbols SYMBOLS] [--output OUTPUT]\r\n",
        "\r\n",
        "Zipline version 0.6.1.\r\n",
        "\r\n",
        "optional arguments:\r\n",
        "  -h, --help            show this help message and exit\r\n",
        "  -c FILE, --conf_file FILE\r\n",
        "                        Specify config file\r\n",
        "  --algofile ALGOFILE, -f ALGOFILE\r\n",
        "  --data-frequency {minute,daily}\r\n",
        "  --start START, -s START\r\n",
        "  --end END, -e END\r\n",
        "  --capital_base CAPITAL_BASE\r\n",
        "  --source {yahoo}\r\n",
        "  --symbols SYMBOLS\r\n",
        "  --output OUTPUT, -o OUTPUT\r\n"
       ]
      }
     ],
     "prompt_number": 2
    },
    {
     "cell_type": "markdown",
     "metadata": {},
     "source": [
      "Note that you have to omit the preceding '!' when you call `run_algo.py`, this is only required by the IPython Notebook in which this tutorial was written.\n",
      "\n",
      "As you can see there are a couple of flags that specify where to find your algorithm (`-f`) as well as parameters specifying which stock data to load from Yahoo! finance (`--symbols`) and the time-range (`--start` and `--end`). Finally, you'll want to save the performance metrics of your algorithm so that you can analyze how it performed. This is done via the `--output` flag and will cause it to write the performance `DataFrame` in the pickle Python file format.\n",
      "\n",
      "Thus, to execute our algorithm from above and save the results to `buyapple_out.pickle` we would call `run_algo.py` as follows:"
     ]
    },
    {
     "cell_type": "code",
     "collapsed": false,
     "input": [
      "!run_algo.py -f ../zipline/examples/buyapple.py --start 2000-1-1 --end 2012-1-1 --symbols AAPL -o buyapple_out.pickle"
     ],
     "language": "python",
     "metadata": {},
     "outputs": [
      {
       "output_type": "stream",
       "stream": "stdout",
       "text": [
        "AAPL\r\n",
        "\u001b[37m#!/usr/bin/env python\u001b[39;49;00m\r\n",
        "\u001b[37m#\u001b[39;49;00m\r\n",
        "\u001b[37m# Copyright 2012 Quantopian, Inc.\u001b[39;49;00m\r\n",
        "\u001b[37m#\u001b[39;49;00m\r\n",
        "\u001b[37m# Licensed under the Apache License, Version 2.0 (the \"License\");\u001b[39;49;00m\r\n",
        "\u001b[37m# you may not use this file except in compliance with the License.\u001b[39;49;00m\r\n",
        "\u001b[37m# You may obtain a copy of the License at\u001b[39;49;00m\r\n",
        "\u001b[37m#\u001b[39;49;00m\r\n",
        "\u001b[37m#     http://www.apache.org/licenses/LICENSE-2.0\u001b[39;49;00m\r\n",
        "\u001b[37m#\u001b[39;49;00m\r\n",
        "\u001b[37m# Unless required by applicable law or agreed to in writing, software\u001b[39;49;00m\r\n",
        "\u001b[37m# distributed under the License is distributed on an \"AS IS\" BASIS,\u001b[39;49;00m\r\n",
        "\u001b[37m# WITHOUT WARRANTIES OR CONDITIONS OF ANY KIND, either express or implied.\u001b[39;49;00m\r\n",
        "\u001b[37m# See the License for the specific language governing permissions and\u001b[39;49;00m\r\n",
        "\u001b[37m# limitations under the License.\u001b[39;49;00m\r\n",
        "\r\n",
        "\u001b[34mfrom\u001b[39;49;00m \u001b[39;49;00m\u001b[04m\u001b[36mzipline.api\u001b[39;49;00m \u001b[39;49;00m\u001b[34mimport\u001b[39;49;00m \u001b[39;49;00morder\u001b[39;49;00m,\u001b[39;49;00m \u001b[39;49;00mrecord\u001b[39;49;00m\r\n",
        "\r\n",
        "\r\n",
        "\u001b[34mdef\u001b[39;49;00m \u001b[39;49;00m\u001b[32minitialize\u001b[39;49;00m(\u001b[39;49;00mcontext\u001b[39;49;00m)\u001b[39;49;00m:\u001b[39;49;00m\r\n",
        "    \u001b[39;49;00m\u001b[34mpass\u001b[39;49;00m\r\n",
        "\r\n",
        "\r\n",
        "\u001b[34mdef\u001b[39;49;00m \u001b[39;49;00m\u001b[32mhandle_data\u001b[39;49;00m(\u001b[39;49;00mcontext\u001b[39;49;00m,\u001b[39;49;00m \u001b[39;49;00mdata\u001b[39;49;00m)\u001b[39;49;00m:\u001b[39;49;00m\r\n",
        "    \u001b[39;49;00morder\u001b[39;49;00m(\u001b[39;49;00m\u001b[33m'\u001b[39;49;00m\u001b[33mAAPL\u001b[39;49;00m\u001b[33m'\u001b[39;49;00m,\u001b[39;49;00m \u001b[39;49;00m\u001b[34m10\u001b[39;49;00m)\u001b[39;49;00m\r\n",
        "    \u001b[39;49;00mrecord\u001b[39;49;00m(\u001b[39;49;00mAAPL\u001b[39;49;00m=\u001b[39;49;00mdata\u001b[39;49;00m[\u001b[39;49;00m\u001b[33m'\u001b[39;49;00m\u001b[33mAAPL\u001b[39;49;00m\u001b[33m'\u001b[39;49;00m]\u001b[39;49;00m.\u001b[39;49;00mprice\u001b[39;49;00m)\u001b[39;49;00m\r\n",
        "\u001b[34mimport\u001b[39;49;00m \u001b[39;49;00m\u001b[04m\u001b[36mmatplotlib.pyplot\u001b[39;49;00m \u001b[39;49;00m\u001b[34mas\u001b[39;49;00m \u001b[39;49;00m\u001b[04m\u001b[36mplt\u001b[39;49;00m\r\n",
        "\r\n",
        "\r\n",
        "\u001b[34mdef\u001b[39;49;00m \u001b[39;49;00m\u001b[32manalyze\u001b[39;49;00m(\u001b[39;49;00mcontext\u001b[39;49;00m,\u001b[39;49;00m \u001b[39;49;00mperf\u001b[39;49;00m)\u001b[39;49;00m:\u001b[39;49;00m\r\n",
        "    \u001b[39;49;00max1\u001b[39;49;00m \u001b[39;49;00m=\u001b[39;49;00m \u001b[39;49;00mplt\u001b[39;49;00m.\u001b[39;49;00msubplot\u001b[39;49;00m(\u001b[39;49;00m\u001b[34m211\u001b[39;49;00m)\u001b[39;49;00m\r\n",
        "    \u001b[39;49;00mperf\u001b[39;49;00m.\u001b[39;49;00mportfolio_value\u001b[39;49;00m.\u001b[39;49;00mplot\u001b[39;49;00m(\u001b[39;49;00max\u001b[39;49;00m=\u001b[39;49;00max1\u001b[39;49;00m)\u001b[39;49;00m\r\n",
        "    \u001b[39;49;00max2\u001b[39;49;00m \u001b[39;49;00m=\u001b[39;49;00m \u001b[39;49;00mplt\u001b[39;49;00m.\u001b[39;49;00msubplot\u001b[39;49;00m(\u001b[39;49;00m\u001b[34m212\u001b[39;49;00m,\u001b[39;49;00m \u001b[39;49;00msharex\u001b[39;49;00m=\u001b[39;49;00max1\u001b[39;49;00m)\u001b[39;49;00m\r\n",
        "    \u001b[39;49;00mperf\u001b[39;49;00m.\u001b[39;49;00mAAPL\u001b[39;49;00m.\u001b[39;49;00mplot\u001b[39;49;00m(\u001b[39;49;00max\u001b[39;49;00m=\u001b[39;49;00max2\u001b[39;49;00m)\u001b[39;49;00m\r\n",
        "    \u001b[39;49;00mplt\u001b[39;49;00m.\u001b[39;49;00mgcf\u001b[39;49;00m(\u001b[39;49;00m)\u001b[39;49;00m.\u001b[39;49;00mset_size_inches\u001b[39;49;00m(\u001b[39;49;00m\u001b[34m18\u001b[39;49;00m,\u001b[39;49;00m \u001b[39;49;00m\u001b[34m8\u001b[39;49;00m)\u001b[39;49;00m\r\n",
        "    \u001b[39;49;00mplt\u001b[39;49;00m.\u001b[39;49;00mshow\u001b[39;49;00m(\u001b[39;49;00m)\u001b[39;49;00m\r\n"
       ]
      },
      {
       "output_type": "stream",
       "stream": "stdout",
       "text": [
        "[2014-06-07 09:15] INFO: Performance: Simulated 3019 trading days out of 3019.\r\n",
        "[2014-06-07 09:15] INFO: Performance: first open: 2000-01-03 14:31:00+00:00\r\n",
        "[2014-06-07 09:15] INFO: Performance: last close: 2011-12-30 21:00:00+00:00\r\n"
       ]
      }
     ],
     "prompt_number": 3
    },
    {
     "cell_type": "markdown",
     "metadata": {},
     "source": [
      "As you can see, `run_algo.py` outputs the algorithm contents, fetches historical price and volume data of Apple from Yahoo! finance in the desired time range, calls the `initialize()` function, and then streams the historical stock price day-by-day through `handle_data()`. After each call to `handle_data()` we instruct `zipline` to order 10 stocks of AAPL. Upon execution of the order function, `zipline` enters the ordered stock and amount in the order book. After the `handle_data()` function has finished, `zipline` looks for any open orders and tries to fill them. If the trading volume is high enough for this stock the order is executed after adding the commission and applying the slippage model which models the influence of your order on the stock price, so your algorithm will be charged more than just the stock price * 10.\n",
      "\n",
      "Note that there is also an `analyze()` function printed. `run_algo.py` will try and look for a file with the ending with `_analyze.py` and the same name of the algorithm (so `buyapple_analyze.py`). If an `analyze()` function is found (either in the main file or the analyze file) it will be called *after* the algorithm is finished and passed in the performance `DataFrame`. The reason for allowing specification of an `analyze()` function in a separate file is that this way `buyapple.py` remains a valid Quantopian algorithm that you can copy&paste.\n",
      "\n",
      "Lets take a quick look at the performance `DataFrame`. For this, we use `pandas` from inside Python and print the first ten rows. Note that `zipline` makes heavy usage of `pandas`, especially for data input and outputting so it's worth spending some time to learn it."
     ]
    },
    {
     "cell_type": "code",
     "collapsed": false,
     "input": [
      "import pandas as pd\n",
      "perf = pd.read_pickle('buyapple_out.pickle') # read in perf DataFrame\n",
      "perf.head()"
     ],
     "language": "python",
     "metadata": {},
     "outputs": [
      {
       "html": [
        "<div style=\"max-height:1000px;max-width:1500px;overflow:auto;\">\n",
        "<table border=\"1\" class=\"dataframe\">\n",
        "  <thead>\n",
        "    <tr style=\"text-align: right;\">\n",
        "      <th></th>\n",
        "      <th>AAPL</th>\n",
        "      <th>capital_used</th>\n",
        "      <th>ending_cash</th>\n",
        "      <th>ending_value</th>\n",
        "      <th>orders</th>\n",
        "      <th>period_close</th>\n",
        "      <th>period_open</th>\n",
        "      <th>pnl</th>\n",
        "      <th>portfolio_value</th>\n",
        "      <th>positions</th>\n",
        "      <th>returns</th>\n",
        "      <th>starting_cash</th>\n",
        "      <th>starting_value</th>\n",
        "      <th>transactions</th>\n",
        "    </tr>\n",
        "  </thead>\n",
        "  <tbody>\n",
        "    <tr>\n",
        "      <th>2000-01-03 21:00:00</th>\n",
        "      <td> 26.75</td>\n",
        "      <td>   0.0</td>\n",
        "      <td> 10000000.0</td>\n",
        "      <td>   0.0</td>\n",
        "      <td> [{u'status': 0, u'limit_reached': False, u'cre...</td>\n",
        "      <td> 2000-01-03 21:00:00+00:00</td>\n",
        "      <td> 2000-01-03 14:31:00+00:00</td>\n",
        "      <td>  0.0</td>\n",
        "      <td> 10000000.0</td>\n",
        "      <td>                                                []</td>\n",
        "      <td> 0.000000e+00</td>\n",
        "      <td> 10000000.0</td>\n",
        "      <td>   0.0</td>\n",
        "      <td>                                                []</td>\n",
        "    </tr>\n",
        "    <tr>\n",
        "      <th>2000-01-04 21:00:00</th>\n",
        "      <td> 24.49</td>\n",
        "      <td>-245.2</td>\n",
        "      <td>  9999754.8</td>\n",
        "      <td> 244.9</td>\n",
        "      <td> [{u'status': 1, u'limit_reached': False, u'cre...</td>\n",
        "      <td> 2000-01-04 21:00:00+00:00</td>\n",
        "      <td> 2000-01-04 14:31:00+00:00</td>\n",
        "      <td> -0.3</td>\n",
        "      <td>  9999999.7</td>\n",
        "      <td> [{u'amount': 10, u'last_sale_price': 24.49, u'...</td>\n",
        "      <td>-3.000000e-08</td>\n",
        "      <td> 10000000.0</td>\n",
        "      <td>   0.0</td>\n",
        "      <td> [{u'order_id': u'be17f988e3e64a93a47b11aeedaee...</td>\n",
        "    </tr>\n",
        "    <tr>\n",
        "      <th>2000-01-05 21:00:00</th>\n",
        "      <td> 24.85</td>\n",
        "      <td>-248.8</td>\n",
        "      <td>  9999506.0</td>\n",
        "      <td> 497.0</td>\n",
        "      <td> [{u'status': 1, u'limit_reached': False, u'cre...</td>\n",
        "      <td> 2000-01-05 21:00:00+00:00</td>\n",
        "      <td> 2000-01-05 14:31:00+00:00</td>\n",
        "      <td>  3.3</td>\n",
        "      <td> 10000003.0</td>\n",
        "      <td> [{u'amount': 20, u'last_sale_price': 24.85, u'...</td>\n",
        "      <td> 3.300000e-07</td>\n",
        "      <td>  9999754.8</td>\n",
        "      <td> 244.9</td>\n",
        "      <td> [{u'order_id': u'ec4a8bec4a6e44a2953a91dcf2ca8...</td>\n",
        "    </tr>\n",
        "    <tr>\n",
        "      <th>2000-01-06 21:00:00</th>\n",
        "      <td> 22.70</td>\n",
        "      <td>-227.3</td>\n",
        "      <td>  9999278.7</td>\n",
        "      <td> 681.0</td>\n",
        "      <td> [{u'status': 1, u'limit_reached': False, u'cre...</td>\n",
        "      <td> 2000-01-06 21:00:00+00:00</td>\n",
        "      <td> 2000-01-06 14:31:00+00:00</td>\n",
        "      <td>-43.3</td>\n",
        "      <td>  9999959.7</td>\n",
        "      <td> [{u'amount': 30, u'last_sale_price': 22.7, u'c...</td>\n",
        "      <td>-4.329999e-06</td>\n",
        "      <td>  9999506.0</td>\n",
        "      <td> 497.0</td>\n",
        "      <td> [{u'order_id': u'6bdc0f35eb904626b6daed8d66ee5...</td>\n",
        "    </tr>\n",
        "    <tr>\n",
        "      <th>2000-01-07 21:00:00</th>\n",
        "      <td> 23.78</td>\n",
        "      <td>-238.1</td>\n",
        "      <td>  9999040.6</td>\n",
        "      <td> 951.2</td>\n",
        "      <td> [{u'status': 1, u'limit_reached': False, u'cre...</td>\n",
        "      <td> 2000-01-07 21:00:00+00:00</td>\n",
        "      <td> 2000-01-07 14:31:00+00:00</td>\n",
        "      <td> 32.1</td>\n",
        "      <td>  9999991.8</td>\n",
        "      <td> [{u'amount': 40, u'last_sale_price': 23.78, u'...</td>\n",
        "      <td> 3.210013e-06</td>\n",
        "      <td>  9999278.7</td>\n",
        "      <td> 681.0</td>\n",
        "      <td> [{u'order_id': u'33b2a14d391b402da92050c458675...</td>\n",
        "    </tr>\n",
        "  </tbody>\n",
        "</table>\n",
        "</div>"
       ],
       "metadata": {},
       "output_type": "pyout",
       "prompt_number": 4,
       "text": [
        "                      AAPL  capital_used  ending_cash  ending_value  \\\n",
        "2000-01-03 21:00:00  26.75           0.0   10000000.0           0.0   \n",
        "2000-01-04 21:00:00  24.49        -245.2    9999754.8         244.9   \n",
        "2000-01-05 21:00:00  24.85        -248.8    9999506.0         497.0   \n",
        "2000-01-06 21:00:00  22.70        -227.3    9999278.7         681.0   \n",
        "2000-01-07 21:00:00  23.78        -238.1    9999040.6         951.2   \n",
        "\n",
        "                                                                orders  \\\n",
        "2000-01-03 21:00:00  [{u'status': 0, u'limit_reached': False, u'cre...   \n",
        "2000-01-04 21:00:00  [{u'status': 1, u'limit_reached': False, u'cre...   \n",
        "2000-01-05 21:00:00  [{u'status': 1, u'limit_reached': False, u'cre...   \n",
        "2000-01-06 21:00:00  [{u'status': 1, u'limit_reached': False, u'cre...   \n",
        "2000-01-07 21:00:00  [{u'status': 1, u'limit_reached': False, u'cre...   \n",
        "\n",
        "                                  period_close                period_open  \\\n",
        "2000-01-03 21:00:00  2000-01-03 21:00:00+00:00  2000-01-03 14:31:00+00:00   \n",
        "2000-01-04 21:00:00  2000-01-04 21:00:00+00:00  2000-01-04 14:31:00+00:00   \n",
        "2000-01-05 21:00:00  2000-01-05 21:00:00+00:00  2000-01-05 14:31:00+00:00   \n",
        "2000-01-06 21:00:00  2000-01-06 21:00:00+00:00  2000-01-06 14:31:00+00:00   \n",
        "2000-01-07 21:00:00  2000-01-07 21:00:00+00:00  2000-01-07 14:31:00+00:00   \n",
        "\n",
        "                      pnl  portfolio_value  \\\n",
        "2000-01-03 21:00:00   0.0       10000000.0   \n",
        "2000-01-04 21:00:00  -0.3        9999999.7   \n",
        "2000-01-05 21:00:00   3.3       10000003.0   \n",
        "2000-01-06 21:00:00 -43.3        9999959.7   \n",
        "2000-01-07 21:00:00  32.1        9999991.8   \n",
        "\n",
        "                                                             positions  \\\n",
        "2000-01-03 21:00:00                                                 []   \n",
        "2000-01-04 21:00:00  [{u'amount': 10, u'last_sale_price': 24.49, u'...   \n",
        "2000-01-05 21:00:00  [{u'amount': 20, u'last_sale_price': 24.85, u'...   \n",
        "2000-01-06 21:00:00  [{u'amount': 30, u'last_sale_price': 22.7, u'c...   \n",
        "2000-01-07 21:00:00  [{u'amount': 40, u'last_sale_price': 23.78, u'...   \n",
        "\n",
        "                          returns  starting_cash  starting_value  \\\n",
        "2000-01-03 21:00:00  0.000000e+00     10000000.0             0.0   \n",
        "2000-01-04 21:00:00 -3.000000e-08     10000000.0             0.0   \n",
        "2000-01-05 21:00:00  3.300000e-07      9999754.8           244.9   \n",
        "2000-01-06 21:00:00 -4.329999e-06      9999506.0           497.0   \n",
        "2000-01-07 21:00:00  3.210013e-06      9999278.7           681.0   \n",
        "\n",
        "                                                          transactions  \n",
        "2000-01-03 21:00:00                                                 []  \n",
        "2000-01-04 21:00:00  [{u'order_id': u'be17f988e3e64a93a47b11aeedaee...  \n",
        "2000-01-05 21:00:00  [{u'order_id': u'ec4a8bec4a6e44a2953a91dcf2ca8...  \n",
        "2000-01-06 21:00:00  [{u'order_id': u'6bdc0f35eb904626b6daed8d66ee5...  \n",
        "2000-01-07 21:00:00  [{u'order_id': u'33b2a14d391b402da92050c458675...  "
       ]
      }
     ],
     "prompt_number": 4
    },
    {
     "cell_type": "markdown",
     "metadata": {},
     "source": [
      "As you can see, there is a row for each trading day, starting on the first business day of 2000. In the columns you can find various information about the state of your algorithm. The very first column `AAPL` was placed there by the `record()` function mentioned earlier and allows us to plot the price of apple. For example, we could easily examine now how our portfolio value changed over time compared to the AAPL stock price."
     ]
    },
    {
     "cell_type": "code",
     "collapsed": false,
     "input": [
      "%matplotlib inline\n",
      "import matplotlib.pyplot as plt\n",
      "\n",
      "ax1 = plt.subplot(211)\n",
      "perf.portfolio_value.plot(ax=ax1)\n",
      "ax1.set_ylabel('portfolio value')\n",
      "ax2 = plt.subplot(212, sharex=ax1)\n",
      "perf.AAPL.plot(ax=ax2)\n",
      "ax2.set_ylabel('AAPL stock price')"
     ],
     "language": "python",
     "metadata": {},
     "outputs": [
      {
       "metadata": {},
       "output_type": "pyout",
       "prompt_number": 5,
       "text": [
        "<matplotlib.text.Text at 0x7fb7d15b4090>"
       ]
      },
      {
       "metadata": {},
       "output_type": "display_data",
       "png": "[encoded data removed]",
       "text": [
        "<matplotlib.figure.Figure at 0x7fb7d1755f90>"
       ]
      }
     ],
     "prompt_number": 5
    },
    {
     "cell_type": "markdown",
     "metadata": {},
     "source": [
      "As you can see, our algorithm performance assessed by the `portfolio_value` closely matches that of the AAPL stock price. This is not surprising as our algorithm only bought AAPL every chance it got."
     ]
    },
    {
     "cell_type": "markdown",
     "metadata": {},
     "source": [
      "### IPython Notebook\n",
      "\n",
      "The [IPython Notebook](http://ipython.org/notebook.html) is a very powerful browser-based interface to a Python interpreter (this tutorial was written in it). As it is already the de-facto interface for most quantitative researchers `zipline` provides an easy way to run your algorithm inside the Notebook. \n",
      "\n",
      "To use it you have to write your algorithm in a cell and let `zipline` know that it is supposed to run this algorithm. This is done via the `%%zipline` IPython magic command that is available after you `import zipline` from within the IPython Notebook. This magic takes the same arguments as the command line interface described above. Thus to run the algorithm from above with the same parameters we just have to execute the following cell after importing `zipline` to register the magic."
     ]
    },
    {
     "cell_type": "code",
     "collapsed": false,
     "input": [
      "import zipline"
     ],
     "language": "python",
     "metadata": {},
     "outputs": [],
     "prompt_number": 1
    },
    {
     "cell_type": "code",
     "collapsed": false,
     "input": [
      "%%zipline --start 2000-1-1 --end 2012-1-1 --symbols AAPL -o perf_ipython\n",
      "\n",
      "from zipline.api import symbol, order, record\n",
      "\n",
      "def initialize(context):\n",
      "    pass\n",
      "\n",
      "def handle_data(context, data):\n",
      "    order(symbol('AAPL'), 10)\n",
      "    record(AAPL=data[symbol('AAPL')].price)"
     ],
     "language": "python",
     "metadata": {},
     "outputs": [
      {
       "output_type": "stream",
       "stream": "stderr",
       "text": [
        "[2014-06-07 09:16] INFO: Performance: Simulated 3019 trading days out of 3019.\n"
       ]
      },
      {
       "output_type": "stream",
       "stream": "stderr",
       "text": [
        "[2014-06-07 09:16] INFO: Performance: first open: 2000-01-03 14:31:00+00:00\n"
       ]
      },
      {
       "output_type": "stream",
       "stream": "stderr",
       "text": [
        "[2014-06-07 09:16] INFO: Performance: last close: 2011-12-30 21:00:00+00:00\n"
       ]
      },
      {
       "output_type": "stream",
       "stream": "stdout",
       "text": [
        "AAPL\n"
       ]
      }
     ],
     "prompt_number": 7
    },
    {
     "cell_type": "markdown",
     "metadata": {},
     "source": [
      "Note that we did not have to specify an input file as above since the magic will use the contents of the cell and look for your algorithm functions there. Also, instead of defining an output file we are specifying a variable name with `-o` that will be created in the name space and contain the performance `DataFrame` we looked at above."
     ]
    },
    {
     "cell_type": "code",
     "collapsed": false,
     "input": [
      "perf_ipython.head()"
     ],
     "language": "python",
     "metadata": {},
     "outputs": [
      {
       "html": [
        "<div style=\"max-height:1000px;max-width:1500px;overflow:auto;\">\n",
        "<table border=\"1\" class=\"dataframe\">\n",
        "  <thead>\n",
        "    <tr style=\"text-align: right;\">\n",
        "      <th></th>\n",
        "      <th>AAPL</th>\n",
        "      <th>capital_used</th>\n",
        "      <th>ending_cash</th>\n",
        "      <th>ending_value</th>\n",
        "      <th>orders</th>\n",
        "      <th>period_close</th>\n",
        "      <th>period_open</th>\n",
        "      <th>pnl</th>\n",
        "      <th>portfolio_value</th>\n",
        "      <th>positions</th>\n",
        "      <th>returns</th>\n",
        "      <th>starting_cash</th>\n",
        "      <th>starting_value</th>\n",
        "      <th>transactions</th>\n",
        "    </tr>\n",
        "  </thead>\n",
        "  <tbody>\n",
        "    <tr>\n",
        "      <th>2000-01-03 21:00:00</th>\n",
        "      <td> 26.75</td>\n",
        "      <td>   0.0</td>\n",
        "      <td> 10000000.0</td>\n",
        "      <td>   0.0</td>\n",
        "      <td> [{u'status': 0, u'created': 2000-01-03 00:00:0...</td>\n",
        "      <td> 2000-01-03 21:00:00+00:00</td>\n",
        "      <td> 2000-01-03 14:31:00+00:00</td>\n",
        "      <td>  0.0</td>\n",
        "      <td> 10000000.0</td>\n",
        "      <td>                                                []</td>\n",
        "      <td> 0.000000e+00</td>\n",
        "      <td> 10000000.0</td>\n",
        "      <td>   0.0</td>\n",
        "      <td>                                                []</td>\n",
        "    </tr>\n",
        "    <tr>\n",
        "      <th>2000-01-04 21:00:00</th>\n",
        "      <td> 24.49</td>\n",
        "      <td>-245.2</td>\n",
        "      <td>  9999754.8</td>\n",
        "      <td> 244.9</td>\n",
        "      <td> [{u'status': 1, u'created': 2000-01-03 00:00:0...</td>\n",
        "      <td> 2000-01-04 21:00:00+00:00</td>\n",
        "      <td> 2000-01-04 14:31:00+00:00</td>\n",
        "      <td> -0.3</td>\n",
        "      <td>  9999999.7</td>\n",
        "      <td> [{u'amount': 10, u'last_sale_price': 24.49, u'...</td>\n",
        "      <td>-3.000000e-08</td>\n",
        "      <td> 10000000.0</td>\n",
        "      <td>   0.0</td>\n",
        "      <td> [{u'commission': 0.3, u'amount': 10, u'sid': u...</td>\n",
        "    </tr>\n",
        "    <tr>\n",
        "      <th>2000-01-05 21:00:00</th>\n",
        "      <td> 24.85</td>\n",
        "      <td>-248.8</td>\n",
        "      <td>  9999506.0</td>\n",
        "      <td> 497.0</td>\n",
        "      <td> [{u'status': 1, u'created': 2000-01-04 00:00:0...</td>\n",
        "      <td> 2000-01-05 21:00:00+00:00</td>\n",
        "      <td> 2000-01-05 14:31:00+00:00</td>\n",
        "      <td>  3.3</td>\n",
        "      <td> 10000003.0</td>\n",
        "      <td> [{u'amount': 20, u'last_sale_price': 24.85, u'...</td>\n",
        "      <td> 3.300000e-07</td>\n",
        "      <td>  9999754.8</td>\n",
        "      <td> 244.9</td>\n",
        "      <td> [{u'commission': 0.3, u'amount': 10, u'sid': u...</td>\n",
        "    </tr>\n",
        "    <tr>\n",
        "      <th>2000-01-06 21:00:00</th>\n",
        "      <td> 22.70</td>\n",
        "      <td>-227.3</td>\n",
        "      <td>  9999278.7</td>\n",
        "      <td> 681.0</td>\n",
        "      <td> [{u'status': 1, u'created': 2000-01-05 00:00:0...</td>\n",
        "      <td> 2000-01-06 21:00:00+00:00</td>\n",
        "      <td> 2000-01-06 14:31:00+00:00</td>\n",
        "      <td>-43.3</td>\n",
        "      <td>  9999959.7</td>\n",
        "      <td> [{u'amount': 30, u'last_sale_price': 22.7, u'c...</td>\n",
        "      <td>-4.329999e-06</td>\n",
        "      <td>  9999506.0</td>\n",
        "      <td> 497.0</td>\n",
        "      <td> [{u'commission': 0.3, u'amount': 10, u'sid': u...</td>\n",
        "    </tr>\n",
        "    <tr>\n",
        "      <th>2000-01-07 21:00:00</th>\n",
        "      <td> 23.78</td>\n",
        "      <td>-238.1</td>\n",
        "      <td>  9999040.6</td>\n",
        "      <td> 951.2</td>\n",
        "      <td> [{u'status': 1, u'created': 2000-01-06 00:00:0...</td>\n",
        "      <td> 2000-01-07 21:00:00+00:00</td>\n",
        "      <td> 2000-01-07 14:31:00+00:00</td>\n",
        "      <td> 32.1</td>\n",
        "      <td>  9999991.8</td>\n",
        "      <td> [{u'amount': 40, u'last_sale_price': 23.78, u'...</td>\n",
        "      <td> 3.210013e-06</td>\n",
        "      <td>  9999278.7</td>\n",
        "      <td> 681.0</td>\n",
        "      <td> [{u'commission': 0.3, u'amount': 10, u'sid': u...</td>\n",
        "    </tr>\n",
        "  </tbody>\n",
        "</table>\n",
        "</div>"
       ],
       "metadata": {},
       "output_type": "pyout",
       "prompt_number": 8,
       "text": [
        "                      AAPL  capital_used  ending_cash  ending_value  \\\n",
        "2000-01-03 21:00:00  26.75           0.0   10000000.0           0.0   \n",
        "2000-01-04 21:00:00  24.49        -245.2    9999754.8         244.9   \n",
        "2000-01-05 21:00:00  24.85        -248.8    9999506.0         497.0   \n",
        "2000-01-06 21:00:00  22.70        -227.3    9999278.7         681.0   \n",
        "2000-01-07 21:00:00  23.78        -238.1    9999040.6         951.2   \n",
        "\n",
        "                                                                orders  \\\n",
        "2000-01-03 21:00:00  [{u'status': 0, u'created': 2000-01-03 00:00:0...   \n",
        "2000-01-04 21:00:00  [{u'status': 1, u'created': 2000-01-03 00:00:0...   \n",
        "2000-01-05 21:00:00  [{u'status': 1, u'created': 2000-01-04 00:00:0...   \n",
        "2000-01-06 21:00:00  [{u'status': 1, u'created': 2000-01-05 00:00:0...   \n",
        "2000-01-07 21:00:00  [{u'status': 1, u'created': 2000-01-06 00:00:0...   \n",
        "\n",
        "                                  period_close                period_open  \\\n",
        "2000-01-03 21:00:00  2000-01-03 21:00:00+00:00  2000-01-03 14:31:00+00:00   \n",
        "2000-01-04 21:00:00  2000-01-04 21:00:00+00:00  2000-01-04 14:31:00+00:00   \n",
        "2000-01-05 21:00:00  2000-01-05 21:00:00+00:00  2000-01-05 14:31:00+00:00   \n",
        "2000-01-06 21:00:00  2000-01-06 21:00:00+00:00  2000-01-06 14:31:00+00:00   \n",
        "2000-01-07 21:00:00  2000-01-07 21:00:00+00:00  2000-01-07 14:31:00+00:00   \n",
        "\n",
        "                      pnl  portfolio_value  \\\n",
        "2000-01-03 21:00:00   0.0       10000000.0   \n",
        "2000-01-04 21:00:00  -0.3        9999999.7   \n",
        "2000-01-05 21:00:00   3.3       10000003.0   \n",
        "2000-01-06 21:00:00 -43.3        9999959.7   \n",
        "2000-01-07 21:00:00  32.1        9999991.8   \n",
        "\n",
        "                                                             positions  \\\n",
        "2000-01-03 21:00:00                                                 []   \n",
        "2000-01-04 21:00:00  [{u'amount': 10, u'last_sale_price': 24.49, u'...   \n",
        "2000-01-05 21:00:00  [{u'amount': 20, u'last_sale_price': 24.85, u'...   \n",
        "2000-01-06 21:00:00  [{u'amount': 30, u'last_sale_price': 22.7, u'c...   \n",
        "2000-01-07 21:00:00  [{u'amount': 40, u'last_sale_price': 23.78, u'...   \n",
        "\n",
        "                          returns  starting_cash  starting_value  \\\n",
        "2000-01-03 21:00:00  0.000000e+00     10000000.0             0.0   \n",
        "2000-01-04 21:00:00 -3.000000e-08     10000000.0             0.0   \n",
        "2000-01-05 21:00:00  3.300000e-07      9999754.8           244.9   \n",
        "2000-01-06 21:00:00 -4.329999e-06      9999506.0           497.0   \n",
        "2000-01-07 21:00:00  3.210013e-06      9999278.7           681.0   \n",
        "\n",
        "                                                          transactions  \n",
        "2000-01-03 21:00:00                                                 []  \n",
        "2000-01-04 21:00:00  [{u'commission': 0.3, u'amount': 10, u'sid': u...  \n",
        "2000-01-05 21:00:00  [{u'commission': 0.3, u'amount': 10, u'sid': u...  \n",
        "2000-01-06 21:00:00  [{u'commission': 0.3, u'amount': 10, u'sid': u...  \n",
        "2000-01-07 21:00:00  [{u'commission': 0.3, u'amount': 10, u'sid': u...  "
       ]
      }
     ],
     "prompt_number": 8
    },
    {
     "cell_type": "markdown",
     "metadata": {},
     "source": [
      "### Manual (advanced)\n",
      "\n",
      "If you are happy with either way above you can safely skip this passage. To provide a closer look at how `zipline` actually works it is instructive to see how we run an algorithm without any of the interfaces demonstrated above."
     ]
    },
    {
     "cell_type": "code",
     "collapsed": false,
     "input": [
      "import pytz\n",
      "from datetime import datetime\n",
      "\n",
      "from zipline.algorithm import TradingAlgorithm\n",
      "from zipline.utils.factory import load_bars_from_yahoo\n",
      "\n",
      "# Load data manually from Yahoo! finance\n",
      "start = datetime(2000, 1, 1, 0, 0, 0, 0, pytz.utc)\n",
      "end = datetime(2012, 1, 1, 0, 0, 0, 0, pytz.utc)\n",
      "data = load_bars_from_yahoo(stocks=['AAPL'], start=start,\n",
      "                            end=end)\n",
      "\n",
      "# Define algorithm\n",
      "def initialize(context):\n",
      "    pass\n",
      "\n",
      "def handle_data(context, data):\n",
      "    order(symbol('AAPL'), 10)\n",
      "    record(AAPL=data[symbol('AAPL')].price)\n",
      "\n",
      "# Create algorithm object passing in initialize and\n",
      "# handle_data functions\n",
      "algo_obj = TradingAlgorithm(initialize=initialize, \n",
      "                            handle_data=handle_data)\n",
      "\n",
      "# Run algorithm\n",
      "perf_manual = algo_obj.run(data)"
     ],
     "language": "python",
     "metadata": {},
     "outputs": [
      {
       "output_type": "stream",
       "stream": "stderr",
       "text": [
        "[2014-06-07 09:16] INFO: Performance: Simulated 3019 trading days out of 3019.\n"
       ]
      },
      {
       "output_type": "stream",
       "stream": "stderr",
       "text": [
        "[2014-06-07 09:16] INFO: Performance: first open: 2000-01-03 14:31:00+00:00\n"
       ]
      },
      {
       "output_type": "stream",
       "stream": "stderr",
       "text": [
        "[2014-06-07 09:16] INFO: Performance: last close: 2011-12-30 21:00:00+00:00\n"
       ]
      },
      {
       "output_type": "stream",
       "stream": "stdout",
       "text": [
        "AAPL\n"
       ]
      }
     ],
     "prompt_number": 9
    },
    {
     "cell_type": "markdown",
     "metadata": {},
     "source": [
      "Common Algo Trading Strategies\n",
      "==============================\n",
      "\n",
      "Broadly, algorithmic trading strategies come in two flavors:\n",
      "\n",
      "* Momentum Strategy: Stocks have momentum (i.e. upward or downward trends) that we can detect and exploit.\n",
      "* Mean-reversion Strategy: Stocks return to their mean and we can exploit when it deviates from that mean."
     ]
    },
    {
     "cell_type": "markdown",
     "metadata": {},
     "source": [
      "###Classic Momentum Strategy: Dual Moving Average Cross-Over"
     ]
    },
    {
     "cell_type": "code",
     "collapsed": false,
     "input": [
      "import zipline"
     ],
     "language": "python",
     "metadata": {},
     "outputs": [],
     "prompt_number": 1
    },
    {
     "cell_type": "code",
     "collapsed": false,
     "input": [
      "reload(zipline.history.history_container)"
     ],
     "language": "python",
     "metadata": {},
     "outputs": [
      {
       "metadata": {},
       "output_type": "pyout",
       "prompt_number": 11,
       "text": [
        "<module 'zipline.history.history_container' from '/home/wiecki/working/projects/quant/qexec/zipline_repo/zipline/history/history_container.py'>"
       ]
      }
     ],
     "prompt_number": 11
    },
    {
     "cell_type": "code",
     "collapsed": false,
     "input": [
      "%pdb"
     ],
     "language": "python",
     "metadata": {},
     "outputs": [
      {
       "output_type": "stream",
       "stream": "stdout",
       "text": [
        "Automatic pdb calling has been turned ON\n"
       ]
      }
     ],
     "prompt_number": 12
    },
    {
     "cell_type": "code",
     "collapsed": false,
     "input": [
      "%%zipline --start 2000-1-1 --end 2012-1-1 --symbols AAPL -o perf_dma\n",
      "\n",
      "from zipline.api import order_target, record, symbol, history, add_history\n",
      "from collections import deque as moving_window\n",
      "import numpy as np\n",
      "\n",
      "\n",
      "def initialize(context):\n",
      "    # Add 2 windows, one with a long window, one\n",
      "    # with a short window.\n",
      "    # Note that this is bound to change soon and will be easier.\n",
      "    add_history(100, '1d', 'price')\n",
      "    add_history(300, '1d', 'price')\n",
      "    \n",
      "    context.i = 0\n",
      "\n",
      "\n",
      "def handle_data(context, data):\n",
      "    context.i += 1\n",
      "    if context.i < 300:\n",
      "        return\n",
      "\n",
      "    # Compute averages\n",
      "    short_mavg = history(100, '1d', 'price').mean()[0]\n",
      "    long_mavg = history(300, '1d', 'price').mean()[0]\n",
      "\n",
      "    # Trading logic\n",
      "    if short_mavg > long_mavg:\n",
      "        order_target(symbol('AAPL'), 100)\n",
      "    elif short_mavg < long_mavg:\n",
      "        order_target(symbol('AAPL'), 0)\n",
      "\n",
      "    # Save values for later inspection\n",
      "    record(AAPL=data[symbol('AAPL')].price,\n",
      "           short_mavg=short_mavg,\n",
      "           long_mavg=long_mavg)"
     ],
     "language": "python",
     "metadata": {},
     "outputs": [
      {
       "ename": "AttributeError",
       "evalue": "'NoneType' object has no attribute 'data_frequency'",
       "output_type": "pyerr",
       "traceback": [
        "\u001b[1;31m---------------------------------------------------------------------------\u001b[0m\n\u001b[1;31mAttributeError\u001b[0m                            Traceback (most recent call last)",
        "\u001b[1;32m<ipython-input-4-e09f1dae1487>\u001b[0m in \u001b[0;36m<module>\u001b[1;34m()\u001b[0m\n\u001b[1;32m----> 1\u001b[1;33m \u001b[0mget_ipython\u001b[0m\u001b[1;33m(\u001b[0m\u001b[1;33m)\u001b[0m\u001b[1;33m.\u001b[0m\u001b[0mrun_cell_magic\u001b[0m\u001b[1;33m(\u001b[0m\u001b[1;34mu'zipline'\u001b[0m\u001b[1;33m,\u001b[0m \u001b[1;34mu'--start 2000-1-1 --end 2012-1-1 --symbols AAPL -o perf_dma'\u001b[0m\u001b[1;33m,\u001b[0m \u001b[1;34mu\"\\nfrom zipline.api import order_target, record, symbol, history, add_history\\nfrom collections import deque as moving_window\\nimport numpy as np\\n\\n\\ndef initialize(context):\\n    # Add 2 windows, one with a long window, one\\n    # with a short window.\\n    # Note that this is bound to change soon and will be easier.\\n    add_history(100, '1d', 'price')\\n    add_history(300, '1d', 'price')\\n    \\n    context.i = 0\\n\\n\\ndef handle_data(context, data):\\n    context.i += 1\\n    if context.i < 300:\\n        return\\n\\n    # Compute averages\\n    short_mavg = history(100, '1d', 'price').mean()[0]\\n    long_mavg = history(300, '1d', 'price').mean()[0]\\n\\n    # Trading logic\\n    if short_mavg > long_mavg:\\n        order_target(symbol('AAPL'), 100)\\n    elif short_mavg < long_mavg:\\n        order_target(symbol('AAPL'), 0)\\n\\n    # Save values for later inspection\\n    record(AAPL=data[symbol('AAPL')].price,\\n           short_mavg=short_mavg,\\n           long_mavg=long_mavg)\"\u001b[0m\u001b[1;33m)\u001b[0m\u001b[1;33m\u001b[0m\u001b[0m\n\u001b[0m",
        "\u001b[1;32m/home/wiecki/envs/zipline/local/lib/python2.7/site-packages/IPython/core/interactiveshell.py\u001b[0m in \u001b[0;36mrun_cell_magic\u001b[1;34m(self, magic_name, line, cell)\u001b[0m\n\u001b[0;32m   2127\u001b[0m             \u001b[0mmagic_arg_s\u001b[0m \u001b[1;33m=\u001b[0m \u001b[0mself\u001b[0m\u001b[1;33m.\u001b[0m\u001b[0mvar_expand\u001b[0m\u001b[1;33m(\u001b[0m\u001b[0mline\u001b[0m\u001b[1;33m,\u001b[0m \u001b[0mstack_depth\u001b[0m\u001b[1;33m)\u001b[0m\u001b[1;33m\u001b[0m\u001b[0m\n\u001b[0;32m   2128\u001b[0m             \u001b[1;32mwith\u001b[0m \u001b[0mself\u001b[0m\u001b[1;33m.\u001b[0m\u001b[0mbuiltin_trap\u001b[0m\u001b[1;33m:\u001b[0m\u001b[1;33m\u001b[0m\u001b[0m\n\u001b[1;32m-> 2129\u001b[1;33m                 \u001b[0mresult\u001b[0m \u001b[1;33m=\u001b[0m \u001b[0mfn\u001b[0m\u001b[1;33m(\u001b[0m\u001b[0mmagic_arg_s\u001b[0m\u001b[1;33m,\u001b[0m \u001b[0mcell\u001b[0m\u001b[1;33m)\u001b[0m\u001b[1;33m\u001b[0m\u001b[0m\n\u001b[0m\u001b[0;32m   2130\u001b[0m             \u001b[1;32mreturn\u001b[0m \u001b[0mresult\u001b[0m\u001b[1;33m\u001b[0m\u001b[0m\n\u001b[0;32m   2131\u001b[0m \u001b[1;33m\u001b[0m\u001b[0m\n",
        "\u001b[1;32m/home/wiecki/working/projects/quant/qexec/zipline_repo/zipline/utils/cli.py\u001b[0m in \u001b[0;36mparse_cell_magic\u001b[1;34m(line, cell)\u001b[0m\n\u001b[0;32m    126\u001b[0m     \u001b[0moutput_var_name\u001b[0m \u001b[1;33m=\u001b[0m \u001b[0margs\u001b[0m\u001b[1;33m.\u001b[0m\u001b[0mpop\u001b[0m\u001b[1;33m(\u001b[0m\u001b[1;34m'output'\u001b[0m\u001b[1;33m,\u001b[0m \u001b[0mNone\u001b[0m\u001b[1;33m)\u001b[0m\u001b[1;33m\u001b[0m\u001b[0m\n\u001b[0;32m    127\u001b[0m \u001b[1;33m\u001b[0m\u001b[0m\n\u001b[1;32m--> 128\u001b[1;33m     \u001b[0mperf\u001b[0m \u001b[1;33m=\u001b[0m \u001b[0mrun_pipeline\u001b[0m\u001b[1;33m(\u001b[0m\u001b[0mprint_algo\u001b[0m\u001b[1;33m=\u001b[0m\u001b[0mFalse\u001b[0m\u001b[1;33m,\u001b[0m \u001b[0malgo_text\u001b[0m\u001b[1;33m=\u001b[0m\u001b[0mcell\u001b[0m\u001b[1;33m,\u001b[0m \u001b[1;33m**\u001b[0m\u001b[0margs\u001b[0m\u001b[1;33m)\u001b[0m\u001b[1;33m\u001b[0m\u001b[0m\n\u001b[0m\u001b[0;32m    129\u001b[0m \u001b[1;33m\u001b[0m\u001b[0m\n\u001b[0;32m    130\u001b[0m     \u001b[1;32mif\u001b[0m \u001b[0moutput_var_name\u001b[0m \u001b[1;32mis\u001b[0m \u001b[1;32mnot\u001b[0m \u001b[0mNone\u001b[0m\u001b[1;33m:\u001b[0m\u001b[1;33m\u001b[0m\u001b[0m\n",
        "\u001b[1;32m/home/wiecki/working/projects/quant/qexec/zipline_repo/zipline/utils/cli.py\u001b[0m in \u001b[0;36mrun_pipeline\u001b[1;34m(print_algo, **kwargs)\u001b[0m\n\u001b[0;32m    188\u001b[0m     algo = zipline.TradingAlgorithm(script=algo_text,\n\u001b[0;32m    189\u001b[0m                                     \u001b[0mnamespace\u001b[0m\u001b[1;33m=\u001b[0m\u001b[0mkwargs\u001b[0m\u001b[1;33m.\u001b[0m\u001b[0mget\u001b[0m\u001b[1;33m(\u001b[0m\u001b[1;34m'namespace'\u001b[0m\u001b[1;33m,\u001b[0m \u001b[1;33m{\u001b[0m\u001b[1;33m}\u001b[0m\u001b[1;33m)\u001b[0m\u001b[1;33m,\u001b[0m\u001b[1;33m\u001b[0m\u001b[0m\n\u001b[1;32m--> 190\u001b[1;33m                                     capital_base=float(kwargs['capital_base']))\n\u001b[0m\u001b[0;32m    191\u001b[0m \u001b[1;33m\u001b[0m\u001b[0m\n\u001b[0;32m    192\u001b[0m     \u001b[0mperf\u001b[0m \u001b[1;33m=\u001b[0m \u001b[0malgo\u001b[0m\u001b[1;33m.\u001b[0m\u001b[0mrun\u001b[0m\u001b[1;33m(\u001b[0m\u001b[0msource\u001b[0m\u001b[1;33m)\u001b[0m\u001b[1;33m\u001b[0m\u001b[0m\n",
        "\u001b[1;32m/home/wiecki/working/projects/quant/qexec/zipline_repo/zipline/algorithm.py\u001b[0m in \u001b[0;36m__init__\u001b[1;34m(self, *args, **kwargs)\u001b[0m\n\u001b[0;32m    213\u001b[0m         \u001b[1;31m# it is fully initialized.\u001b[0m\u001b[1;33m\u001b[0m\u001b[1;33m\u001b[0m\u001b[0m\n\u001b[0;32m    214\u001b[0m         \u001b[0mself\u001b[0m\u001b[1;33m.\u001b[0m\u001b[0minitialized\u001b[0m \u001b[1;33m=\u001b[0m \u001b[0mFalse\u001b[0m\u001b[1;33m\u001b[0m\u001b[0m\n\u001b[1;32m--> 215\u001b[1;33m         \u001b[0mself\u001b[0m\u001b[1;33m.\u001b[0m\u001b[0minitialize\u001b[0m\u001b[1;33m(\u001b[0m\u001b[1;33m*\u001b[0m\u001b[0margs\u001b[0m\u001b[1;33m,\u001b[0m \u001b[1;33m**\u001b[0m\u001b[0mkwargs\u001b[0m\u001b[1;33m)\u001b[0m\u001b[1;33m\u001b[0m\u001b[0m\n\u001b[0m\u001b[0;32m    216\u001b[0m \u001b[1;33m\u001b[0m\u001b[0m\n\u001b[0;32m    217\u001b[0m     \u001b[1;32mdef\u001b[0m \u001b[0minitialize\u001b[0m\u001b[1;33m(\u001b[0m\u001b[0mself\u001b[0m\u001b[1;33m,\u001b[0m \u001b[1;33m*\u001b[0m\u001b[0margs\u001b[0m\u001b[1;33m,\u001b[0m \u001b[1;33m**\u001b[0m\u001b[0mkwargs\u001b[0m\u001b[1;33m)\u001b[0m\u001b[1;33m:\u001b[0m\u001b[1;33m\u001b[0m\u001b[0m\n",
        "\u001b[1;32m/home/wiecki/working/projects/quant/qexec/zipline_repo/zipline/algorithm.py\u001b[0m in \u001b[0;36minitialize\u001b[1;34m(self, *args, **kwargs)\u001b[0m\n\u001b[0;32m    221\u001b[0m         \"\"\"\n\u001b[0;32m    222\u001b[0m         \u001b[1;32mwith\u001b[0m \u001b[0mZiplineAPI\u001b[0m\u001b[1;33m(\u001b[0m\u001b[0mself\u001b[0m\u001b[1;33m)\u001b[0m\u001b[1;33m:\u001b[0m\u001b[1;33m\u001b[0m\u001b[0m\n\u001b[1;32m--> 223\u001b[1;33m             \u001b[0mself\u001b[0m\u001b[1;33m.\u001b[0m\u001b[0m_initialize\u001b[0m\u001b[1;33m(\u001b[0m\u001b[0mself\u001b[0m\u001b[1;33m)\u001b[0m\u001b[1;33m\u001b[0m\u001b[0m\n\u001b[0m\u001b[0;32m    224\u001b[0m \u001b[1;33m\u001b[0m\u001b[0m\n\u001b[0;32m    225\u001b[0m     \u001b[1;32mdef\u001b[0m \u001b[0mhandle_data\u001b[0m\u001b[1;33m(\u001b[0m\u001b[0mself\u001b[0m\u001b[1;33m,\u001b[0m \u001b[0mdata\u001b[0m\u001b[1;33m)\u001b[0m\u001b[1;33m:\u001b[0m\u001b[1;33m\u001b[0m\u001b[0m\n",
        "\u001b[1;32m<string>\u001b[0m in \u001b[0;36minitialize\u001b[1;34m(context)\u001b[0m\n",
        "\u001b[1;32m/home/wiecki/working/projects/quant/qexec/zipline_repo/zipline/utils/api_support.py\u001b[0m in \u001b[0;36mwrapped\u001b[1;34m(*args, **kwargs)\u001b[0m\n\u001b[0;32m     58\u001b[0m     \u001b[1;32mdef\u001b[0m \u001b[0mwrapped\u001b[0m\u001b[1;33m(\u001b[0m\u001b[1;33m*\u001b[0m\u001b[0margs\u001b[0m\u001b[1;33m,\u001b[0m \u001b[1;33m**\u001b[0m\u001b[0mkwargs\u001b[0m\u001b[1;33m)\u001b[0m\u001b[1;33m:\u001b[0m\u001b[1;33m\u001b[0m\u001b[0m\n\u001b[0;32m     59\u001b[0m         \u001b[1;31m# Get the instance and call the method\u001b[0m\u001b[1;33m\u001b[0m\u001b[1;33m\u001b[0m\u001b[0m\n\u001b[1;32m---> 60\u001b[1;33m         \u001b[1;32mreturn\u001b[0m \u001b[0mgetattr\u001b[0m\u001b[1;33m(\u001b[0m\u001b[0mget_algo_instance\u001b[0m\u001b[1;33m(\u001b[0m\u001b[1;33m)\u001b[0m\u001b[1;33m,\u001b[0m \u001b[0mf\u001b[0m\u001b[1;33m.\u001b[0m\u001b[0m__name__\u001b[0m\u001b[1;33m)\u001b[0m\u001b[1;33m(\u001b[0m\u001b[1;33m*\u001b[0m\u001b[0margs\u001b[0m\u001b[1;33m,\u001b[0m \u001b[1;33m**\u001b[0m\u001b[0mkwargs\u001b[0m\u001b[1;33m)\u001b[0m\u001b[1;33m\u001b[0m\u001b[0m\n\u001b[0m\u001b[0;32m     61\u001b[0m     \u001b[1;31m# Add functor to zipline.api\u001b[0m\u001b[1;33m\u001b[0m\u001b[1;33m\u001b[0m\u001b[0m\n\u001b[0;32m     62\u001b[0m     \u001b[0msetattr\u001b[0m\u001b[1;33m(\u001b[0m\u001b[0mzipline\u001b[0m\u001b[1;33m.\u001b[0m\u001b[0mapi\u001b[0m\u001b[1;33m,\u001b[0m \u001b[0mf\u001b[0m\u001b[1;33m.\u001b[0m\u001b[0m__name__\u001b[0m\u001b[1;33m,\u001b[0m \u001b[0mwrapped\u001b[0m\u001b[1;33m)\u001b[0m\u001b[1;33m\u001b[0m\u001b[0m\n",
        "\u001b[1;32m/home/wiecki/working/projects/quant/qexec/zipline_repo/zipline/algorithm.py\u001b[0m in \u001b[0;36madd_history\u001b[1;34m(self, bar_count, frequency, field, ffill)\u001b[0m\n\u001b[0;32m    812\u001b[0m     def add_history(self, bar_count, frequency, field,\n\u001b[0;32m    813\u001b[0m                     ffill=True):\n\u001b[1;32m--> 814\u001b[1;33m         \u001b[1;32mif\u001b[0m \u001b[0mself\u001b[0m\u001b[1;33m.\u001b[0m\u001b[0msim_params\u001b[0m\u001b[1;33m.\u001b[0m\u001b[0mdata_frequency\u001b[0m \u001b[1;33m==\u001b[0m \u001b[1;34m'daily'\u001b[0m\u001b[1;33m:\u001b[0m\u001b[1;33m\u001b[0m\u001b[0m\n\u001b[0m\u001b[0;32m    815\u001b[0m             \u001b[0mdaily_at_midnight\u001b[0m \u001b[1;33m=\u001b[0m \u001b[0mTrue\u001b[0m\u001b[1;33m\u001b[0m\u001b[0m\n\u001b[0;32m    816\u001b[0m \u001b[1;33m\u001b[0m\u001b[0m\n",
        "\u001b[1;31mAttributeError\u001b[0m: 'NoneType' object has no attribute 'data_frequency'"
       ]
      },
      {
       "output_type": "stream",
       "stream": "stdout",
       "text": [
        "AAPL\n",
        "> \u001b[1;32m/home/wiecki/working/projects/quant/qexec/zipline_repo/zipline/algorithm.py\u001b[0m(814)\u001b[0;36madd_history\u001b[1;34m()\u001b[0m\n",
        "\u001b[1;32m    813 \u001b[1;33m                    ffill=True):\n",
        "\u001b[0m\u001b[1;32m--> 814 \u001b[1;33m        \u001b[1;32mif\u001b[0m \u001b[0mself\u001b[0m\u001b[1;33m.\u001b[0m\u001b[0msim_params\u001b[0m\u001b[1;33m.\u001b[0m\u001b[0mdata_frequency\u001b[0m \u001b[1;33m==\u001b[0m \u001b[1;34m'daily'\u001b[0m\u001b[1;33m:\u001b[0m\u001b[1;33m\u001b[0m\u001b[0m\n",
        "\u001b[0m\u001b[1;32m    815 \u001b[1;33m            \u001b[0mdaily_at_midnight\u001b[0m \u001b[1;33m=\u001b[0m \u001b[0mTrue\u001b[0m\u001b[1;33m\u001b[0m\u001b[0m\n",
        "\u001b[0m\n"
       ]
      },
      {
       "name": "stdout",
       "output_type": "stream",
       "stream": "stdout",
       "text": [
        "ipdb> self.sim_params\n"
       ]
      },
      {
       "name": "stdout",
       "output_type": "stream",
       "stream": "stdout",
       "text": [
        "ipdb> c\n"
       ]
      }
     ],
     "prompt_number": 4
    },
    {
     "cell_type": "code",
     "collapsed": false,
     "input": [
      "%pylab inline\n",
      "fig = plt.figure()\n",
      "ax1 = fig.add_subplot(211,  ylabel='Price in $')\n",
      "perf_dma['AAPL'].plot(ax=ax1, color='r', lw=2.)\n",
      "perf_dma[['short_mavg', 'long_mavg']].plot(ax=ax1, lw=2.)\n",
      "\n",
      "#ax1.plot(perf_dma.ix[perf_dma.buy].index, perf_dma.short_mavg[perf_dma.buy],\n",
      "#         '^', markersize=10, color='m')\n",
      "#ax1.plot(perf_dma.ix[perf_dma.sell].index, perf_dma.short_mavg[perf_dma.sell],\n",
      "#         'v', markersize=10, color='k')\n",
      "\n",
      "ax2 = fig.add_subplot(212, ylabel='Portfolio value in $')\n",
      "perf_dma.portfolio_value.plot(ax=ax2, lw=2.)\n",
      "\n",
      "#ax2.plot(perf_dma.ix[perf_dma.buy].index, perf_dma.portfolio_value[perf_dma.buy],\n",
      "#         '^', markersize=10, color='m')\n",
      "#ax2.plot(perf_dma.ix[perf_dma.sell].index, perf.portfolio_value[perf_dma.sell],\n",
      "#         'v', markersize=10, color='k')\n",
      "\n",
      "plt.legend(loc=0)\n",
      "plt.gcf().set_size_inches(14, 10)"
     ],
     "language": "python",
     "metadata": {},
     "outputs": [
      {
       "output_type": "stream",
       "stream": "stdout",
       "text": [
        "Populating the interactive namespace from numpy and matplotlib\n"
       ]
      },
      {
       "output_type": "stream",
       "stream": "stderr",
       "text": [
        "WARNING: pylab import has clobbered these variables: ['record']\n",
        "`%pylab --no-import-all` prevents importing * from pylab and numpy\n"
       ]
      },
      {
       "metadata": {},
       "output_type": "display_data",
       "png": "[encoded data removed]",
       "text": [
        "<matplotlib.figure.Figure at 0x7f2ad28f2550>"
       ]
      }
     ],
     "prompt_number": 11
    },
    {
     "cell_type": "code",
     "collapsed": false,
     "input": [
      "%pdb"
     ],
     "language": "python",
     "metadata": {},
     "outputs": [
      {
       "output_type": "stream",
       "stream": "stdout",
       "text": [
        "Automatic pdb calling has been turned ON\n"
       ]
      }
     ],
     "prompt_number": 3
    },
    {
     "cell_type": "code",
     "collapsed": false,
     "input": [
      "%%zipline --start 2000-1-1 --end 2012-1-1 --symbols AAPL -o perf_dma\n",
      "\n",
      "from zipline.api import order_target, record, symbol, history, add_history\n",
      "from collections import deque as moving_window\n",
      "import numpy as np\n",
      "\n",
      "\n",
      "def initialize(context):\n",
      "    # Add 2 windows, one with a long window, one\n",
      "    # with a short window.\n",
      "    # Note that this is bound to change soon and will be easier.\n",
      "    context.short_window = moving_window(maxlen=100)\n",
      "    context.long_window = moving_window(maxlen=300)\n",
      "\n",
      "\n",
      "def handle_data(context, data):\n",
      "    # Save price to window\n",
      "    context.short_window.append(data[symbol('AAPL')].price)\n",
      "    context.long_window.append(data[symbol('AAPL')].price)\n",
      "\n",
      "    # Compute averages\n",
      "    short_mavg = np.mean(context.short_window)\n",
      "    long_mavg = np.mean(context.long_window)\n",
      "\n",
      "    # Trading logic\n",
      "    if short_mavg > long_mavg:\n",
      "        order_target(symbol('AAPL'), 100)\n",
      "    elif short_mavg < long_mavg:\n",
      "        order_target(symbol('AAPL'), 0)\n",
      "\n",
      "    # Save values for later inspection\n",
      "    record(AAPL=data[symbol('AAPL')].price,\n",
      "           short_mavg=short_mavg,\n",
      "           long_mavg=long_mavg)"
     ],
     "language": "python",
     "metadata": {},
     "outputs": []
    },
    {
     "cell_type": "markdown",
     "metadata": {},
     "source": [
      "Mean-reversion strategies\n",
      "-------------------------\n",
      "\n",
      "Idea: If stock (or combination of stocks as in pairtrading) always revert back to its mean, we can long (short) the stock if it decreases (increases) from its mean."
     ]
    },
    {
     "cell_type": "markdown",
     "metadata": {},
     "source": [
      "Load stocks that are correlated (and hopefully cointegrated, which means that a linear combination of them will be mean-reverting).\n",
      "\n",
      "Coca-Cola (KO) and Pepsi (PEP) is a good example as they are both in the same market segment and are both likely to be affected by the same events (e.g. increase of price of corn syrup)."
     ]
    },
    {
     "cell_type": "code",
     "collapsed": false,
     "input": [
      "start = datetime(1997, 1, 1, 0, 0, 0, 0, pytz.utc)\n",
      "end = datetime(1998, 6, 1, 0, 0, 0, 0, pytz.utc)\n",
      "data = zp.utils.factory.load_from_yahoo(stocks=['PEP', 'KO'], indexes={},\n",
      "                                        start=start, end=end, adjusted=True)"
     ],
     "language": "python",
     "metadata": {},
     "outputs": []
    },
    {
     "cell_type": "markdown",
     "metadata": {},
     "source": [
      "The idea is that while neither stock price is mean-reverting, a linear combination of them will be."
     ]
    },
    {
     "cell_type": "code",
     "collapsed": false,
     "input": [
      "data[['PEP', 'KO']].plot()\n",
      "plt.ylabel('price')\n",
      "\n",
      "plt.figure()\n",
      "integrated = data.PEP - data.KO\n",
      "integrated.plot()\n",
      "plt.ylabel('combined price')\n",
      "plt.axhline(integrated.mean())"
     ],
     "language": "python",
     "metadata": {},
     "outputs": []
    },
    {
     "cell_type": "code",
     "collapsed": false,
     "input": [
      "plt.plot(data.PEP, data.KO, 'x')\n",
      "plt.xlabel('PEP')\n",
      "plt.ylabel('KO')"
     ],
     "language": "python",
     "metadata": {},
     "outputs": []
    },
    {
     "cell_type": "markdown",
     "metadata": {},
     "source": [
      "Normally, we'd run a statistical test for cointegration like the [Dickey-Fuller test](http://en.wikipedia.org/wiki/Dickey%E2%80%93Fuller_test) but we'll skip this here.\n",
      "\n",
      "Idea of the strategy\n",
      "--------------------\n",
      "Now, we can exploit this mean-reversion property of the integrated series as follows: Assume that PEP and KO drift apart, as they do Nov 1997. If we assume that they are mean-reverting we expect this gap to close again as the stocks prices come back together (which they do by Jan 1998). In other words, during this time where the spread is large, we think that PEP is overvalued, while KO is undervalued. We thus short PEP with the expectation that it will go down, and long KO under the expectation that it will go up.\n",
      "\n",
      "Estimating the regression coefficients\n",
      "--------------------------------------\n",
      "In this particular example it seems we can just subtract them but in reality it might be that the correlation is not 1. In our algorithm we thus estimate the regression between them in order to create a mean-reverting series using `scipy.stats.linregress(price1, price2)`.\n",
      "\n",
      "BatchTransform\n",
      "--------------\n",
      "However, Zipline is designed in such a way that we ever only have access to the current price. We thus need a window of past events. The `batch_transform` gives us this functionality. It is a decorator for a function which will, behind the scenes, aggregate the data and pass a `pandas` `Panel` (a 3D `DataFrame`) into our a function."
     ]
    },
    {
     "cell_type": "code",
     "collapsed": false,
     "input": [
      "# Warning: This algorithm is written to illustrate the core idea of pairtrading. \n",
      "# In reality, however, there are many more details we have to consider to make\n",
      "# this actually work.\n",
      "\n",
      "from zipline.transforms import batch_transform\n",
      "from scipy import stats\n",
      "\n",
      "@batch_transform\n",
      "def regression_transform(data):\n",
      "    \"\"\"Computes regression coefficient (slope and intercept)\n",
      "    via Ordinary Least Squares between two SIDs.\n",
      "    \"\"\"\n",
      "    # data is now an array containg all past events up until now\n",
      "    pep_price = data.price['PEP']\n",
      "    ko_price = data.price['KO']\n",
      "    slope, intercept, _, _, _ = stats.linregress(pep_price, ko_price)\n",
      "\n",
      "    return intercept, slope\n",
      "\n",
      "\n",
      "class Pairtrade(zp.TradingAlgorithm):\n",
      "    \"\"\"Pairtrading relies on cointegration of two stocks.\n",
      "\n",
      "    The expectation is that once the two stocks drifted apart\n",
      "    (i.e. there is spread), they will eventually revert again. Thus,\n",
      "    if we short the upward drifting stock and long the downward\n",
      "    drifting stock (in short, we buy the spread) once the spread\n",
      "    widened we can sell the spread with profit once they converged\n",
      "    again. A nice property of this algorithm is that we enter the\n",
      "    market in a neutral position.\n",
      "\n",
      "    This specific algorithm tries to exploit the cointegration of\n",
      "    Pepsi and Coca Cola by estimating the correlation between the\n",
      "    two. Divergence of the spread is evaluated by z-scoring.\n",
      "    \"\"\"\n",
      "\n",
      "    def initialize(self, window_length=100):\n",
      "        self.set_slippage(FixedSlippage())\n",
      "        self.invested = False\n",
      "        self.regression_transform = regression_transform(refresh_period=500,\n",
      "                                                         window_length=window_length)\n",
      "\n",
      "    def handle_data(self, data):\n",
      "        # 1. Compute regression coefficients between PEP and KO\n",
      "        params = self.regression_transform.handle_data(data)\n",
      "        if params is None:\n",
      "            self.record(buy_spread=False, sell_spread=False)\n",
      "            return\n",
      "        intercept, slope = params\n",
      "\n",
      "        # 2. Compute spread\n",
      "        spread = (slope * data['PEP'].price + intercept) - data['KO'].price\n",
      "        \n",
      "        buy_spread = False\n",
      "        sell_spread = False\n",
      "        # 3. Place orders\n",
      "        if spread >= 5.0 and not self.invested:\n",
      "            # Stocks drifted apart, long one, short the other\n",
      "            self.order('KO', 100)\n",
      "            self.order('PEP', -100)\n",
      "            self.invested = True\n",
      "            buy_spread = True\n",
      "        elif spread <= 2. and self.invested:\n",
      "            # The spread is closing again, exit positions.\n",
      "            # ???\n",
      "            # Profit!\n",
      "            self.order('KO', -100)\n",
      "            self.order('PEP', 100)\n",
      "            self.invested = False\n",
      "            sell_spread = True\n",
      "        \n",
      "        # Record spread for later analysis\n",
      "        self.record(spread=spread,\n",
      "                    buy_spread=buy_spread,\n",
      "                    sell_spread=sell_spread)"
     ],
     "language": "python",
     "metadata": {},
     "outputs": []
    },
    {
     "cell_type": "code",
     "collapsed": false,
     "input": [
      "# Run strategy\n",
      "pairtrade = Pairtrade()\n",
      "results = pairtrade.run(data)"
     ],
     "language": "python",
     "metadata": {},
     "outputs": []
    },
    {
     "cell_type": "code",
     "collapsed": false,
     "input": [
      "ax1 = plt.subplot(311)\n",
      "data[['PEP', 'KO']].plot(ax=ax1)\n",
      "plt.ylabel('price')\n",
      "plt.setp(ax1.get_xticklabels(), visible=False)\n",
      "\n",
      "ax2 = plt.subplot(312, sharex=ax1)\n",
      "results.spread.plot(ax=ax2, color='k')\n",
      "ax2.axhline(2, color='k')\n",
      "ax2.axhline(5, color='k')\n",
      "plt.ylabel('spread')\n",
      "plt.setp(ax2.get_xticklabels(), visible=False)\n",
      "\n",
      "ax3 = plt.subplot(313, sharex=ax1)\n",
      "results.portfolio_value.plot(ax=ax3, color='k')\n",
      "plt.ylabel('portfolio value')\n",
      "\n",
      "# Plot spread enter and exit markers\n",
      "enter_pos = results.index[results.buy_spread]\n",
      "exit_pos = results.index[results.sell_spread]\n",
      "for ax in [ax1, ax2, ax3]:\n",
      "    ax.axvline(enter_pos, c='g')\n",
      "    ax.axvline(exit_pos, c='r')\n",
      "plt.gcf().set_size_inches(16, 12)"
     ],
     "language": "python",
     "metadata": {},
     "outputs": []
    },
    {
     "cell_type": "heading",
     "level": 2,
     "metadata": {},
     "source": [
      "Optional: Zipline version of Google Strategy"
     ]
    },
    {
     "cell_type": "code",
     "collapsed": false,
     "input": [
      "# Load Preis data\n",
      "data = pd.read_csv('data/GoogleTrendsData.csv', index_col='Date', parse_dates=True)\n",
      "data.index = data.index.tz_localize(pytz.UTC)\n",
      "data.head()"
     ],
     "language": "python",
     "metadata": {},
     "outputs": []
    },
    {
     "cell_type": "code",
     "collapsed": false,
     "input": [
      "# window length of 3 as in original publication\n",
      "delta_t = 3\n",
      "\n",
      "class GoogleTrends(zp.TradingAlgorithm):\n",
      "    def initialize(self):\n",
      "        # Moving window. Defining maxlen causes the window length \n",
      "        # to remain constant as old events get dropped once full.\n",
      "        self.window = deque(maxlen=delta_t)\n",
      "        # Turns off slippage to simplify simulation.\n",
      "        self.set_slippage(FixedSlippage())\n",
      "    \n",
      "    def handle_data(self, data):\n",
      "        window_full = len(self.window) == delta_t\n",
      "        \n",
      "        # Extract debt search volume. \n",
      "        # 'price' is the default field used if no further information is supplied.\n",
      "        debt = data['debt']['price']\n",
      "        \n",
      "        # Exit any prior positions\n",
      "        if 'djia' in self.portfolio.positions:\n",
      "            self.order('djia', -self.portfolio.positions['djia']['amount'])\n",
      "            \n",
      "        # Moving average cross-over logic\n",
      "        if debt > np.mean(self.window) and window_full:\n",
      "            self.order('djia', -100)\n",
      "        elif debt < np.mean(self.window) and window_full:\n",
      "            self.order('djia', 100)\n",
      "        \n",
      "        self.window.append(debt)"
     ],
     "language": "python",
     "metadata": {},
     "outputs": []
    }
   ],
   "metadata": {}
  }
 ]
}